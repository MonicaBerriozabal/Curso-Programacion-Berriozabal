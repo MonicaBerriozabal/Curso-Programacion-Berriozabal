{
  "nbformat": 4,
  "nbformat_minor": 0,
  "metadata": {
    "colab": {
      "name": "Practica 2.ipynb",
      "provenance": []
    },
    "kernelspec": {
      "name": "python3",
      "display_name": "Python 3"
    },
    "language_info": {
      "name": "python"
    }
  },
  "cells": [
    {
      "cell_type": "markdown",
      "metadata": {
        "id": "0q670fA-OfbY"
      },
      "source": [
        "**Algoritmos y complejidad de algoritmos**"
      ]
    },
    {
      "cell_type": "code",
      "metadata": {
        "colab": {
          "base_uri": "https://localhost:8080/"
        },
        "id": "Gm4JlVpvOeNn",
        "outputId": "8e5848b9-3b67-472d-e9a4-edd24970ec4c"
      },
      "source": [
        "a=5\n",
        "b=6\n",
        "c=10\n",
        "n=3\n",
        "for i in range(n):\n",
        "  for j in range(n):\n",
        "    x=i*i\n",
        "    y=j*j\n",
        "    z=i*j\n",
        "for k in range(n):\n",
        "  w=k*k\n",
        "  s=3*k\n",
        "print(c)     "
      ],
      "execution_count": null,
      "outputs": [
        {
          "output_type": "stream",
          "text": [
            "10\n"
          ],
          "name": "stdout"
        }
      ]
    },
    {
      "cell_type": "markdown",
      "metadata": {
        "id": "rKF0ckKbTpzr"
      },
      "source": [
        "terminos dominantes"
      ]
    },
    {
      "cell_type": "code",
      "metadata": {
        "colab": {
          "base_uri": "https://localhost:8080/"
        },
        "id": "bFqAdzQXTsSb",
        "outputId": "651bdf2a-8ad1-44f3-e750-ae4356c8bec5"
      },
      "source": [
        "#termino dominante o(1)\n",
        "a=1\n",
        "b=2\n",
        "c=1\n",
        "if a<b:\n",
        "  print('OK')\n",
        "else:\n",
        "  print(False)\n",
        "for i in (2):   \n",
        "\n"
      ],
      "execution_count": null,
      "outputs": [
        {
          "output_type": "stream",
          "text": [
            "OK\n"
          ],
          "name": "stdout"
        }
      ]
    },
    {
      "cell_type": "code",
      "metadata": {
        "colab": {
          "base_uri": "https://localhost:8080/"
        },
        "id": "XDK4h1g7Uqdh",
        "outputId": "16bd9e50-5d5c-44d9-b572-24dbe7c5d110"
      },
      "source": [
        "#Notacion dominante O(n)\n",
        "lista=[9,3,2,4,5,6]\n",
        "for i in range(len(lista)):\n",
        "  print(i)\n",
        "\n",
        "  #t(n)=n+1\n",
        "  #o(n)"
      ],
      "execution_count": null,
      "outputs": [
        {
          "output_type": "stream",
          "text": [
            "0\n",
            "1\n",
            "2\n",
            "3\n",
            "4\n",
            "5\n"
          ],
          "name": "stdout"
        }
      ]
    },
    {
      "cell_type": "code",
      "metadata": {
        "colab": {
          "base_uri": "https://localhost:8080/"
        },
        "id": "y4iwLZSEVJNl",
        "outputId": "4186d2b8-8007-4ba3-fd26-e8e486f4b3ca"
      },
      "source": [
        "n=10\n",
        "array_a=[1,2,3,4,5,6,7,8,9,10]\n",
        "array_b=[1,2,3,4,5,6,7,8,9,10]\n",
        "for i in range(len(array_a)):   #ordenA\n",
        "  for j in range(len(array_b)): #ORDENB\n",
        "    print(i)\n",
        "    print(j)\n",
        "\n",
        "\n",
        "#T(n)=(A*B)+2\n",
        "#O(A*B)\n",
        "\n",
        "\n"
      ],
      "execution_count": null,
      "outputs": [
        {
          "output_type": "stream",
          "text": [
            "0\n",
            "0\n",
            "0\n",
            "1\n",
            "0\n",
            "2\n",
            "0\n",
            "3\n",
            "0\n",
            "4\n",
            "0\n",
            "5\n",
            "0\n",
            "6\n",
            "0\n",
            "7\n",
            "0\n",
            "8\n",
            "0\n",
            "9\n",
            "1\n",
            "0\n",
            "1\n",
            "1\n",
            "1\n",
            "2\n",
            "1\n",
            "3\n",
            "1\n",
            "4\n",
            "1\n",
            "5\n",
            "1\n",
            "6\n",
            "1\n",
            "7\n",
            "1\n",
            "8\n",
            "1\n",
            "9\n",
            "2\n",
            "0\n",
            "2\n",
            "1\n",
            "2\n",
            "2\n",
            "2\n",
            "3\n",
            "2\n",
            "4\n",
            "2\n",
            "5\n",
            "2\n",
            "6\n",
            "2\n",
            "7\n",
            "2\n",
            "8\n",
            "2\n",
            "9\n",
            "3\n",
            "0\n",
            "3\n",
            "1\n",
            "3\n",
            "2\n",
            "3\n",
            "3\n",
            "3\n",
            "4\n",
            "3\n",
            "5\n",
            "3\n",
            "6\n",
            "3\n",
            "7\n",
            "3\n",
            "8\n",
            "3\n",
            "9\n",
            "4\n",
            "0\n",
            "4\n",
            "1\n",
            "4\n",
            "2\n",
            "4\n",
            "3\n",
            "4\n",
            "4\n",
            "4\n",
            "5\n",
            "4\n",
            "6\n",
            "4\n",
            "7\n",
            "4\n",
            "8\n",
            "4\n",
            "9\n",
            "5\n",
            "0\n",
            "5\n",
            "1\n",
            "5\n",
            "2\n",
            "5\n",
            "3\n",
            "5\n",
            "4\n",
            "5\n",
            "5\n",
            "5\n",
            "6\n",
            "5\n",
            "7\n",
            "5\n",
            "8\n",
            "5\n",
            "9\n",
            "6\n",
            "0\n",
            "6\n",
            "1\n",
            "6\n",
            "2\n",
            "6\n",
            "3\n",
            "6\n",
            "4\n",
            "6\n",
            "5\n",
            "6\n",
            "6\n",
            "6\n",
            "7\n",
            "6\n",
            "8\n",
            "6\n",
            "9\n",
            "7\n",
            "0\n",
            "7\n",
            "1\n",
            "7\n",
            "2\n",
            "7\n",
            "3\n",
            "7\n",
            "4\n",
            "7\n",
            "5\n",
            "7\n",
            "6\n",
            "7\n",
            "7\n",
            "7\n",
            "8\n",
            "7\n",
            "9\n",
            "8\n",
            "0\n",
            "8\n",
            "1\n",
            "8\n",
            "2\n",
            "8\n",
            "3\n",
            "8\n",
            "4\n",
            "8\n",
            "5\n",
            "8\n",
            "6\n",
            "8\n",
            "7\n",
            "8\n",
            "8\n",
            "8\n",
            "9\n",
            "9\n",
            "0\n",
            "9\n",
            "1\n",
            "9\n",
            "2\n",
            "9\n",
            "3\n",
            "9\n",
            "4\n",
            "9\n",
            "5\n",
            "9\n",
            "6\n",
            "9\n",
            "7\n",
            "9\n",
            "8\n",
            "9\n",
            "9\n"
          ],
          "name": "stdout"
        }
      ]
    },
    {
      "cell_type": "code",
      "metadata": {
        "id": "PE7dTu4KacFy"
      },
      "source": [
        "def lista_anidada(seq, num):\n",
        "    avg = len(seq) / float(num)\n",
        "    out = []\n",
        "    last = 0.0\n",
        "\n",
        "    while last < len(seq):\n",
        "        out.append(seq[int(last):int(last + avg)])\n",
        "        last += avg\n",
        "\n",
        "    return out"
      ],
      "execution_count": null,
      "outputs": []
    },
    {
      "cell_type": "code",
      "metadata": {
        "colab": {
          "base_uri": "https://localhost:8080/",
          "height": 231
        },
        "id": "mDxXUREEWeov",
        "outputId": "41b45cb6-baea-40e4-ee2c-90e4e62bc462"
      },
      "source": [
        "import time\n",
        "inicio=time.time()\n",
        "lista_anidada_1=lista_anidada(range((1000),10))\n",
        "print(lista_anidada)\n",
        "for i in range(0,len(lista_anidada_1)):\n",
        "  for j in range(0,len(lista_anidada[0])):\n",
        "    if lista_anidada_1[i][j]==4:\n",
        "      print(\"el valor cuatro se encuentra en la lista anidada\")\n",
        "fin=time.time()\n",
        "print(fin-inicio)      \n"
      ],
      "execution_count": null,
      "outputs": [
        {
          "output_type": "error",
          "ename": "TypeError",
          "evalue": "ignored",
          "traceback": [
            "\u001b[0;31m---------------------------------------------------------------------------\u001b[0m",
            "\u001b[0;31mTypeError\u001b[0m                                 Traceback (most recent call last)",
            "\u001b[0;32m<ipython-input-18-7271633a18c8>\u001b[0m in \u001b[0;36m<module>\u001b[0;34m()\u001b[0m\n\u001b[1;32m      1\u001b[0m \u001b[0;32mimport\u001b[0m \u001b[0mtime\u001b[0m\u001b[0;34m\u001b[0m\u001b[0;34m\u001b[0m\u001b[0m\n\u001b[1;32m      2\u001b[0m \u001b[0minicio\u001b[0m\u001b[0;34m=\u001b[0m\u001b[0mtime\u001b[0m\u001b[0;34m.\u001b[0m\u001b[0mtime\u001b[0m\u001b[0;34m(\u001b[0m\u001b[0;34m)\u001b[0m\u001b[0;34m\u001b[0m\u001b[0;34m\u001b[0m\u001b[0m\n\u001b[0;32m----> 3\u001b[0;31m \u001b[0mlista_anidada_1\u001b[0m\u001b[0;34m=\u001b[0m\u001b[0mlista_anidada\u001b[0m\u001b[0;34m(\u001b[0m\u001b[0mrange\u001b[0m\u001b[0;34m(\u001b[0m\u001b[0;34m(\u001b[0m\u001b[0;36m1000\u001b[0m\u001b[0;34m)\u001b[0m\u001b[0;34m,\u001b[0m\u001b[0;36m10\u001b[0m\u001b[0;34m)\u001b[0m\u001b[0;34m)\u001b[0m\u001b[0;34m\u001b[0m\u001b[0;34m\u001b[0m\u001b[0m\n\u001b[0m\u001b[1;32m      4\u001b[0m \u001b[0mprint\u001b[0m\u001b[0;34m(\u001b[0m\u001b[0mlista_anidada\u001b[0m\u001b[0;34m)\u001b[0m\u001b[0;34m\u001b[0m\u001b[0;34m\u001b[0m\u001b[0m\n\u001b[1;32m      5\u001b[0m \u001b[0;32mfor\u001b[0m \u001b[0mi\u001b[0m \u001b[0;32min\u001b[0m \u001b[0mrange\u001b[0m\u001b[0;34m(\u001b[0m\u001b[0;36m0\u001b[0m\u001b[0;34m,\u001b[0m\u001b[0mlen\u001b[0m\u001b[0;34m(\u001b[0m\u001b[0mlista_anidada_1\u001b[0m\u001b[0;34m)\u001b[0m\u001b[0;34m)\u001b[0m\u001b[0;34m:\u001b[0m\u001b[0;34m\u001b[0m\u001b[0;34m\u001b[0m\u001b[0m\n",
            "\u001b[0;31mTypeError\u001b[0m: lista_anidada() missing 1 required positional argument: 'num'"
          ]
        }
      ]
    },
    {
      "cell_type": "markdown",
      "metadata": {
        "id": "8HJaGeyJcqXK"
      },
      "source": [
        "se tiene una lista de datos desordenada se requiere encontrar el valor minimo de toda la lista de datos, implemente una solucion optima para asegurar que nuestros recursos satisfagan nuestra necesidad"
      ]
    },
    {
      "cell_type": "code",
      "metadata": {
        "id": "xDjNolPMcUC6"
      },
      "source": [
        "lista=[5,4,2,1,0]\n",
        "def finMin(alist):\n",
        "  minimo=alist[0]\n",
        "  for i in alist:\n",
        "    for j in alist:\n",
        "      if i>j:\n",
        "        valor_minimo=False\n",
        "        if valor_minimo:\n",
        "          minimo=i\n",
        "          return minimo"
      ],
      "execution_count": null,
      "outputs": []
    },
    {
      "cell_type": "code",
      "metadata": {
        "colab": {
          "base_uri": "https://localhost:8080/",
          "height": 163
        },
        "id": "1nL9yKu3fzGg",
        "outputId": "1d3f0bd9-51e8-4e37-b0cf-e20abded35b1"
      },
      "source": [
        "print(fidMin(lista))"
      ],
      "execution_count": null,
      "outputs": [
        {
          "output_type": "error",
          "ename": "NameError",
          "evalue": "ignored",
          "traceback": [
            "\u001b[0;31m---------------------------------------------------------------------------\u001b[0m",
            "\u001b[0;31mNameError\u001b[0m                                 Traceback (most recent call last)",
            "\u001b[0;32m<ipython-input-20-494bee905fac>\u001b[0m in \u001b[0;36m<module>\u001b[0;34m()\u001b[0m\n\u001b[0;32m----> 1\u001b[0;31m \u001b[0mprint\u001b[0m\u001b[0;34m(\u001b[0m\u001b[0mfidMin\u001b[0m\u001b[0;34m(\u001b[0m\u001b[0mlista\u001b[0m\u001b[0;34m)\u001b[0m\u001b[0;34m)\u001b[0m\u001b[0;34m\u001b[0m\u001b[0;34m\u001b[0m\u001b[0m\n\u001b[0m",
            "\u001b[0;31mNameError\u001b[0m: name 'fidMin' is not defined"
          ]
        }
      ]
    }
  ]
}